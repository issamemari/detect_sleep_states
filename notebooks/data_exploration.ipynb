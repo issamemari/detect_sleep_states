{
 "cells": [
  {
   "cell_type": "code",
   "execution_count": 1,
   "metadata": {},
   "outputs": [
    {
     "name": "stdout",
     "output_type": "stream",
     "text": [
      "INFO: Pandarallel will run on 64 workers.\n",
      "INFO: Pandarallel will use Memory file system to transfer data between the main process and workers.\n"
     ]
    }
   ],
   "source": [
    "import pandas as pd\n",
    "import polars as pl\n",
    "\n",
    "from pandarallel import pandarallel\n",
    "from datetime import datetime\n",
    "from tqdm import tqdm\n",
    "import dateutil.parser\n",
    "\n",
    "pandarallel.initialize(nb_workers=64)"
   ]
  },
  {
   "cell_type": "code",
   "execution_count": 2,
   "metadata": {},
   "outputs": [],
   "source": [
    "dt_transforms = [\n",
    "    pl.col('timestamp').str.to_datetime(), \n",
    "    (pl.col('timestamp').str.to_datetime().dt.year()-2000).cast(pl.UInt8).alias('year'), \n",
    "    pl.col('timestamp').str.to_datetime().dt.month().cast(pl.UInt8).alias('month'),\n",
    "    pl.col('timestamp').str.to_datetime().dt.day().cast(pl.UInt8).alias('day'), \n",
    "    pl.col('timestamp').str.to_datetime().dt.hour().cast(pl.UInt8).alias('hour')\n",
    "]\n",
    "\n",
    "data_transforms = [\n",
    "    pl.col('anglez').cast(pl.Int16), # Casting anglez to 16 bit integer\n",
    "    (pl.col('enmo')*1000).cast(pl.UInt16), # Convert enmo to 16 bit uint\n",
    "]\n",
    "\n",
    "train_series = pl.scan_parquet('../data/train_series.parquet').with_columns(\n",
    "    dt_transforms + data_transforms\n",
    ")\n",
    "\n",
    "train_events = pl.read_csv('../data/train_events.csv').with_columns(\n",
    "    dt_transforms\n",
    ").drop_nulls()\n",
    "\n",
    "test_series = pl.scan_parquet('../data/test_series.parquet').with_columns(\n",
    "    dt_transforms + data_transforms\n",
    ")\n",
    "\n",
    "# Removing null events and nights with mismatched counts from series_events\n",
    "mismatches = train_events.drop_nulls().group_by(['series_id', 'night']).agg([\n",
    "    ((pl.col('event') == 'onset').sum() == (pl.col('event') == 'wakeup').sum()).alias('balanced')\n",
    "    ]).sort(by=['series_id', 'night']).filter(~pl.col('balanced'))\n",
    "\n",
    "for mm in mismatches.to_numpy(): \n",
    "    train_events = train_events.filter(~((pl.col('series_id') == mm[0]) & (pl.col('night') == mm[1])))\n",
    "\n",
    "# Getting series ids as a list for convenience\n",
    "series_ids = train_events['series_id'].unique(maintain_order=True).to_list()\n",
    "\n",
    "# Updating train_series to only keep these series ids\n",
    "train_series = train_series.filter(pl.col('series_id').is_in(series_ids))"
   ]
  },
  {
   "cell_type": "code",
   "execution_count": null,
   "metadata": {},
   "outputs": [],
   "source": [
    "series_id = series_ids[0]\n",
    "\n",
    "train_series_df = train_series.collect()\n",
    "\n",
    "# Plotting the series\n",
    "import plotly.express as px\n",
    "\n",
    "fig = px.line(\n",
    "    train_series_df.filter(train_series_df['series_id'] == \"038441c925bb\"),\n",
    "    x='timestamp',\n",
    "    y=['enmo', 'anglez']\n",
    ")\n",
    "\n",
    "haha = train_events.filter(train_events[\"series_id\"] == \"038441c925bb\").to_pandas()\n",
    "\n",
    "# show oneset and wakeup events as vertical lines on the figure\n",
    "for i in range(len(haha)):\n",
    "    if haha.iloc[i]['event'] == 'onset':\n",
    "        fig.add_vline(x=haha.iloc[i]['timestamp'], line_width=1, line_dash=\"dash\", line_color=\"green\")\n",
    "    elif haha.iloc[i]['event'] == 'wakeup':\n",
    "        fig.add_vline(x=haha.iloc[i]['timestamp'], line_width=1, line_dash=\"dash\", line_color=\"red\")\n",
    "\n",
    "fig.show()\n",
    "\n",
    "# save figure as html\n",
    "fig.write_html(\"038441c925bb.html\")"
   ]
  },
  {
   "cell_type": "code",
   "execution_count": null,
   "metadata": {},
   "outputs": [],
   "source": [
    "train_events.dropna(subset=[\"timestamp\"], inplace=True)\n",
    "train_events[\"step\"] = train_events[\"step\"].astype(int)"
   ]
  },
  {
   "cell_type": "code",
   "execution_count": null,
   "metadata": {},
   "outputs": [],
   "source": [
    "from concurrent.futures import ProcessPoolExecutor\n",
    "from tqdm import tqdm\n",
    "\n",
    "def parse_timestamps(batch):\n",
    "    return [dateutil.parser.isoparse(ts) for ts in batch]\n",
    "\n",
    "def chunks(lst, n):\n",
    "    \"\"\"Yield successive n-sized chunks from lst.\"\"\"\n",
    "    for i in range(0, len(lst), n):\n",
    "        yield lst[i:i + n]\n",
    "\n",
    "timestamps = train_series[\"timestamp\"].values\n",
    "chunk_size = len(timestamps) // (64 * 64)\n",
    "batches = list(chunks(timestamps, chunk_size))\n",
    "\n",
    "# Using `futures` to keep the original order\n",
    "futures = []\n",
    "\n",
    "with ProcessPoolExecutor(max_workers=64) as executor:\n",
    "    # Submit all batches as futures\n",
    "    for batch in batches:\n",
    "        futures.append(executor.submit(parse_timestamps, batch))\n",
    "\n",
    "    # Progress bar for futures as they are submitted in order\n",
    "    parsed_timestamps = []\n",
    "    for future in tqdm(futures, total=len(futures)):\n",
    "        # Results will be added maintaining the original order\n",
    "        parsed_timestamps.extend(future.result())"
   ]
  },
  {
   "cell_type": "code",
   "execution_count": null,
   "metadata": {},
   "outputs": [],
   "source": [
    "train_series[\"timestamp\"]"
   ]
  },
  {
   "cell_type": "code",
   "execution_count": null,
   "metadata": {},
   "outputs": [],
   "source": [
    "train_series.series_id.value_counts()"
   ]
  },
  {
   "cell_type": "code",
   "execution_count": null,
   "metadata": {},
   "outputs": [],
   "source": [
    "train_events"
   ]
  },
  {
   "cell_type": "code",
   "execution_count": null,
   "metadata": {},
   "outputs": [],
   "source": []
  }
 ],
 "metadata": {
  "kernelspec": {
   "display_name": "detect_sleep_states-EbEChb-S",
   "language": "python",
   "name": "python3"
  },
  "language_info": {
   "codemirror_mode": {
    "name": "ipython",
    "version": 3
   },
   "file_extension": ".py",
   "mimetype": "text/x-python",
   "name": "python",
   "nbconvert_exporter": "python",
   "pygments_lexer": "ipython3",
   "version": "3.11.6"
  }
 },
 "nbformat": 4,
 "nbformat_minor": 2
}
