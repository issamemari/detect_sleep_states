{
 "cells": [
  {
   "cell_type": "code",
   "execution_count": null,
   "metadata": {},
   "outputs": [
    {
     "name": "stdout",
     "output_type": "stream",
     "text": [
      "INFO: Pandarallel will run on 64 workers.\n",
      "INFO: Pandarallel will use Memory file system to transfer data between the main process and workers.\n"
     ]
    }
   ],
   "source": [
    "import pandas as pd\n",
    "\n",
    "from pandarallel import pandarallel\n",
    "from datetime import datetime\n",
    "\n",
    "pandarallel.initialize(\n",
    "    nb_workers=64,\n",
    "    progress_bar=True\n",
    ")"
   ]
  },
  {
   "cell_type": "code",
   "execution_count": null,
   "metadata": {},
   "outputs": [],
   "source": [
    "train_series = pd.read_parquet(\"../data/train_series.parquet\")\n",
    "train_events = pd.read_csv(\n",
    "    \"../data/train_events.csv\",\n",
    "    parse_dates=[\"timestamp\"],\n",
    ")"
   ]
  },
  {
   "cell_type": "code",
   "execution_count": null,
   "metadata": {},
   "outputs": [],
   "source": [
    "train_events.dropna(subset=[\"timestamp\"], inplace=True)"
   ]
  },
  {
   "cell_type": "code",
   "execution_count": null,
   "metadata": {},
   "outputs": [],
   "source": [
    "train_events[\"step\"] = train_events[\"step\"].astype(int)"
   ]
  },
  {
   "cell_type": "code",
   "execution_count": null,
   "metadata": {},
   "outputs": [
    {
     "data": {
      "application/vnd.jupyter.widget-view+json": {
       "model_id": "03ca7666a6e74db7bee1032894ee6e2c",
       "version_major": 2,
       "version_minor": 0
      },
      "text/plain": [
       "VBox(children=(HBox(children=(IntProgress(value=0, description='0.00%', max=150), Label(value='0 / 150'))), HB…"
      ]
     },
     "metadata": {},
     "output_type": "display_data"
    },
    {
     "ename": "TypeError",
     "evalue": "strptime() argument 1 must be str, not Timestamp",
     "output_type": "error",
     "traceback": [
      "\u001b[0;31m---------------------------------------------------------------------------\u001b[0m",
      "\u001b[0;31mRemoteTraceback\u001b[0m                           Traceback (most recent call last)",
      "\u001b[0;31mRemoteTraceback\u001b[0m: \n\"\"\"\nTraceback (most recent call last):\n  File \"/usr/lib/python3.8/multiprocessing/pool.py\", line 125, in worker\n    result = (True, func(*args, **kwds))\n  File \"/usr/lib/python3.8/multiprocessing/pool.py\", line 51, in starmapstar\n    return list(itertools.starmap(args[0], args[1]))\n  File \"/root/.local/share/virtualenvs/detect_sleep_states-bDQuuCad/lib/python3.8/site-packages/pandarallel/core.py\", line 95, in __call__\n    result = self.work_function(\n  File \"/root/.local/share/virtualenvs/detect_sleep_states-bDQuuCad/lib/python3.8/site-packages/pandarallel/data_types/series.py\", line 26, in work\n    return data.apply(\n  File \"/root/.local/share/virtualenvs/detect_sleep_states-bDQuuCad/lib/python3.8/site-packages/pandas/core/series.py\", line 4630, in apply\n    return SeriesApply(self, func, convert_dtype, args, kwargs).apply()\n  File \"/root/.local/share/virtualenvs/detect_sleep_states-bDQuuCad/lib/python3.8/site-packages/pandas/core/apply.py\", line 1025, in apply\n    return self.apply_standard()\n  File \"/root/.local/share/virtualenvs/detect_sleep_states-bDQuuCad/lib/python3.8/site-packages/pandas/core/apply.py\", line 1076, in apply_standard\n    mapped = lib.map_infer(\n  File \"pandas/_libs/lib.pyx\", line 2834, in pandas._libs.lib.map_infer\n  File \"/root/.local/share/virtualenvs/detect_sleep_states-bDQuuCad/lib/python3.8/site-packages/pandarallel/progress_bars.py\", line 214, in closure\n    return user_defined_function(\n  File \"/tmp/ipykernel_10287/2913216697.py\", line 2, in parse_timestamp\n    return datetime.strptime(timestamp, datetime.isoformat)\nTypeError: strptime() argument 1 must be str, not Timestamp\n\"\"\"",
      "\nThe above exception was the direct cause of the following exception:\n",
      "\u001b[0;31mTypeError\u001b[0m                                 Traceback (most recent call last)",
      "\u001b[1;32m/root/detect_sleep_states/notebooks/data_exploration.ipynb Cell 5\u001b[0m line \u001b[0;36m4\n\u001b[1;32m      <a href='vscode-notebook-cell://ssh-remote%2Bvastai/root/detect_sleep_states/notebooks/data_exploration.ipynb#W3sdnNjb2RlLXJlbW90ZQ%3D%3D?line=0'>1</a>\u001b[0m \u001b[39mdef\u001b[39;00m \u001b[39mparse_timestamp\u001b[39m(timestamp):\n\u001b[1;32m      <a href='vscode-notebook-cell://ssh-remote%2Bvastai/root/detect_sleep_states/notebooks/data_exploration.ipynb#W3sdnNjb2RlLXJlbW90ZQ%3D%3D?line=1'>2</a>\u001b[0m     \u001b[39mreturn\u001b[39;00m datetime\u001b[39m.\u001b[39mstrptime(timestamp, datetime\u001b[39m.\u001b[39misoformat)\n\u001b[0;32m----> <a href='vscode-notebook-cell://ssh-remote%2Bvastai/root/detect_sleep_states/notebooks/data_exploration.ipynb#W3sdnNjb2RlLXJlbW90ZQ%3D%3D?line=3'>4</a>\u001b[0m train_events[\u001b[39m\"\u001b[39m\u001b[39mtimestamp\u001b[39m\u001b[39m\"\u001b[39m] \u001b[39m=\u001b[39m train_events[\u001b[39m\"\u001b[39;49m\u001b[39mtimestamp\u001b[39;49m\u001b[39m\"\u001b[39;49m]\u001b[39m.\u001b[39;49mparallel_apply(parse_timestamp)\n",
      "File \u001b[0;32m~/.local/share/virtualenvs/detect_sleep_states-bDQuuCad/lib/python3.8/site-packages/pandarallel/core.py:333\u001b[0m, in \u001b[0;36mparallelize_with_memory_file_system.<locals>.closure\u001b[0;34m(data, user_defined_function, *user_defined_function_args, **user_defined_function_kwargs)\u001b[0m\n\u001b[1;32m    325\u001b[0m     \u001b[39mreturn\u001b[39;00m wrapped_reduce_function(\n\u001b[1;32m    326\u001b[0m         (Path(output_file\u001b[39m.\u001b[39mname) \u001b[39mfor\u001b[39;00m output_file \u001b[39min\u001b[39;00m output_files),\n\u001b[1;32m    327\u001b[0m         reduce_extra,\n\u001b[1;32m    328\u001b[0m     )\n\u001b[1;32m    329\u001b[0m \u001b[39mexcept\u001b[39;00m \u001b[39mEOFError\u001b[39;00m:\n\u001b[1;32m    330\u001b[0m     \u001b[39m# Loading the files failed, this most likely means that there\u001b[39;00m\n\u001b[1;32m    331\u001b[0m     \u001b[39m# was some error during processing and the files were never\u001b[39;00m\n\u001b[1;32m    332\u001b[0m     \u001b[39m# saved at all.\u001b[39;00m\n\u001b[0;32m--> 333\u001b[0m     results_promise\u001b[39m.\u001b[39;49mget()\n\u001b[1;32m    335\u001b[0m     \u001b[39m# If the above statement does not raise an exception, that\u001b[39;00m\n\u001b[1;32m    336\u001b[0m     \u001b[39m# means the multiprocessing went well and we want to re-raise\u001b[39;00m\n\u001b[1;32m    337\u001b[0m     \u001b[39m# the original EOFError.\u001b[39;00m\n\u001b[1;32m    338\u001b[0m     \u001b[39mraise\u001b[39;00m\n",
      "File \u001b[0;32m/usr/lib/python3.8/multiprocessing/pool.py:771\u001b[0m, in \u001b[0;36mApplyResult.get\u001b[0;34m(self, timeout)\u001b[0m\n\u001b[1;32m    769\u001b[0m     \u001b[39mreturn\u001b[39;00m \u001b[39mself\u001b[39m\u001b[39m.\u001b[39m_value\n\u001b[1;32m    770\u001b[0m \u001b[39melse\u001b[39;00m:\n\u001b[0;32m--> 771\u001b[0m     \u001b[39mraise\u001b[39;00m \u001b[39mself\u001b[39m\u001b[39m.\u001b[39m_value\n",
      "\u001b[0;31mTypeError\u001b[0m: strptime() argument 1 must be str, not Timestamp"
     ]
    },
    {
     "ename": "",
     "evalue": "",
     "output_type": "error",
     "traceback": [
      "\u001b[1;31mThe Kernel crashed while executing code in the the current cell or a previous cell. Please review the code in the cell(s) to identify a possible cause of the failure. Click <a href='https://aka.ms/vscodeJupyterKernelCrash'>here</a> for more info. View Jupyter <a href='command:jupyter.viewOutput'>log</a> for further details."
     ]
    }
   ],
   "source": [
    "def parse_timestamp(timestamp):\n",
    "    return datetime.strptime(timestamp, datetime.isoformat)\n",
    "\n",
    "train_events[\"timestamp\"] = train_events[\"timestamp\"].parallel_apply(parse_timestamp)"
   ]
  },
  {
   "cell_type": "code",
   "execution_count": null,
   "metadata": {},
   "outputs": [],
   "source": [
    "train_series[\"timestamp\"]"
   ]
  },
  {
   "cell_type": "code",
   "execution_count": null,
   "metadata": {},
   "outputs": [],
   "source": [
    "train_series.series_id.value_counts()"
   ]
  },
  {
   "cell_type": "code",
   "execution_count": null,
   "metadata": {},
   "outputs": [],
   "source": [
    "train_events"
   ]
  },
  {
   "cell_type": "code",
   "execution_count": null,
   "metadata": {},
   "outputs": [],
   "source": []
  }
 ],
 "metadata": {
  "kernelspec": {
   "display_name": "detect_sleep_states-EbEChb-S",
   "language": "python",
   "name": "python3"
  },
  "language_info": {
   "codemirror_mode": {
    "name": "ipython",
    "version": 3
   },
   "file_extension": ".py",
   "mimetype": "text/x-python",
   "name": "python",
   "nbconvert_exporter": "python",
   "pygments_lexer": "ipython3",
   "version": "3.8.10"
  }
 },
 "nbformat": 4,
 "nbformat_minor": 2
}
