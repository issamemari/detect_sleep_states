{
 "cells": [
  {
   "cell_type": "code",
   "execution_count": 1,
   "metadata": {},
   "outputs": [],
   "source": [
    "import sys\n",
    "\n",
    "sys.path.append('../src')\n",
    "\n",
    "from model.anchors import generate_anchors"
   ]
  },
  {
   "cell_type": "code",
   "execution_count": 10,
   "metadata": {},
   "outputs": [],
   "source": [
    "day = 24*3600/5\n",
    "anchors = generate_anchors(day, [512, 2048, 4096, 8192, 12288, 16384])"
   ]
  },
  {
   "cell_type": "code",
   "execution_count": 11,
   "metadata": {},
   "outputs": [
    {
     "data": {
      "text/plain": [
       "torch.Size([508, 2])"
      ]
     },
     "execution_count": 11,
     "metadata": {},
     "output_type": "execute_result"
    }
   ],
   "source": [
    "anchors.shape"
   ]
  },
  {
   "cell_type": "code",
   "execution_count": 8,
   "metadata": {},
   "outputs": [
    {
     "data": {
      "application/vnd.plotly.v1+json": {
       "config": {
        "plotlyServerURL": "https://plot.ly"
       },
       "data": [
        {
         "marker": {
          "size": 10
         },
         "mode": "lines+markers",
         "name": "Anchor 0",
         "type": "scatter",
         "x": [
          0,
          512
         ],
         "y": [
          0,
          0
         ]
        },
        {
         "marker": {
          "size": 10
         },
         "mode": "lines+markers",
         "name": "Anchor 1",
         "type": "scatter",
         "x": [
          256,
          768
         ],
         "y": [
          1,
          1
         ]
        },
        {
         "marker": {
          "size": 10
         },
         "mode": "lines+markers",
         "name": "Anchor 2",
         "type": "scatter",
         "x": [
          512,
          1024
         ],
         "y": [
          2,
          2
         ]
        },
        {
         "marker": {
          "size": 10
         },
         "mode": "lines+markers",
         "name": "Anchor 3",
         "type": "scatter",
         "x": [
          768,
          1280
         ],
         "y": [
          3,
          3
         ]
        },
        {
         "marker": {
          "size": 10
         },
         "mode": "lines+markers",
         "name": "Anchor 4",
         "type": "scatter",
         "x": [
          1024,
          1536
         ],
         "y": [
          4,
          4
         ]
        },
        {
         "marker": {
          "size": 10
         },
         "mode": "lines+markers",
         "name": "Anchor 5",
         "type": "scatter",
         "x": [
          1280,
          1792
         ],
         "y": [
          5,
          5
         ]
        },
        {
         "marker": {
          "size": 10
         },
         "mode": "lines+markers",
         "name": "Anchor 6",
         "type": "scatter",
         "x": [
          1536,
          2048
         ],
         "y": [
          6,
          6
         ]
        },
        {
         "marker": {
          "size": 10
         },
         "mode": "lines+markers",
         "name": "Anchor 7",
         "type": "scatter",
         "x": [
          1792,
          2304
         ],
         "y": [
          7,
          7
         ]
        },
        {
         "marker": {
          "size": 10
         },
         "mode": "lines+markers",
         "name": "Anchor 8",
         "type": "scatter",
         "x": [
          2048,
          2560
         ],
         "y": [
          8,
          8
         ]
        },
        {
         "marker": {
          "size": 10
         },
         "mode": "lines+markers",
         "name": "Anchor 9",
         "type": "scatter",
         "x": [
          2304,
          2816
         ],
         "y": [
          9,
          9
         ]
        },
        {
         "marker": {
          "size": 10
         },
         "mode": "lines+markers",
         "name": "Anchor 10",
         "type": "scatter",
         "x": [
          2560,
          3072
         ],
         "y": [
          10,
          10
         ]
        },
        {
         "marker": {
          "size": 10
         },
         "mode": "lines+markers",
         "name": "Anchor 11",
         "type": "scatter",
         "x": [
          2816,
          3328
         ],
         "y": [
          11,
          11
         ]
        },
        {
         "marker": {
          "size": 10
         },
         "mode": "lines+markers",
         "name": "Anchor 12",
         "type": "scatter",
         "x": [
          3072,
          3584
         ],
         "y": [
          12,
          12
         ]
        },
        {
         "marker": {
          "size": 10
         },
         "mode": "lines+markers",
         "name": "Anchor 13",
         "type": "scatter",
         "x": [
          3328,
          3840
         ],
         "y": [
          13,
          13
         ]
        },
        {
         "marker": {
          "size": 10
         },
         "mode": "lines+markers",
         "name": "Anchor 14",
         "type": "scatter",
         "x": [
          3584,
          4096
         ],
         "y": [
          14,
          14
         ]
        },
        {
         "marker": {
          "size": 10
         },
         "mode": "lines+markers",
         "name": "Anchor 15",
         "type": "scatter",
         "x": [
          3840,
          4352
         ],
         "y": [
          15,
          15
         ]
        },
        {
         "marker": {
          "size": 10
         },
         "mode": "lines+markers",
         "name": "Anchor 16",
         "type": "scatter",
         "x": [
          4096,
          4608
         ],
         "y": [
          16,
          16
         ]
        },
        {
         "marker": {
          "size": 10
         },
         "mode": "lines+markers",
         "name": "Anchor 17",
         "type": "scatter",
         "x": [
          4352,
          4864
         ],
         "y": [
          17,
          17
         ]
        },
        {
         "marker": {
          "size": 10
         },
         "mode": "lines+markers",
         "name": "Anchor 18",
         "type": "scatter",
         "x": [
          4608,
          5120
         ],
         "y": [
          18,
          18
         ]
        },
        {
         "marker": {
          "size": 10
         },
         "mode": "lines+markers",
         "name": "Anchor 19",
         "type": "scatter",
         "x": [
          4864,
          5376
         ],
         "y": [
          19,
          19
         ]
        },
        {
         "marker": {
          "size": 10
         },
         "mode": "lines+markers",
         "name": "Anchor 20",
         "type": "scatter",
         "x": [
          5120,
          5632
         ],
         "y": [
          20,
          20
         ]
        },
        {
         "marker": {
          "size": 10
         },
         "mode": "lines+markers",
         "name": "Anchor 21",
         "type": "scatter",
         "x": [
          5376,
          5888
         ],
         "y": [
          21,
          21
         ]
        },
        {
         "marker": {
          "size": 10
         },
         "mode": "lines+markers",
         "name": "Anchor 22",
         "type": "scatter",
         "x": [
          5632,
          6144
         ],
         "y": [
          22,
          22
         ]
        },
        {
         "marker": {
          "size": 10
         },
         "mode": "lines+markers",
         "name": "Anchor 23",
         "type": "scatter",
         "x": [
          5888,
          6400
         ],
         "y": [
          23,
          23
         ]
        },
        {
         "marker": {
          "size": 10
         },
         "mode": "lines+markers",
         "name": "Anchor 24",
         "type": "scatter",
         "x": [
          6144,
          6656
         ],
         "y": [
          24,
          24
         ]
        },
        {
         "marker": {
          "size": 10
         },
         "mode": "lines+markers",
         "name": "Anchor 25",
         "type": "scatter",
         "x": [
          6400,
          6912
         ],
         "y": [
          25,
          25
         ]
        },
        {
         "marker": {
          "size": 10
         },
         "mode": "lines+markers",
         "name": "Anchor 26",
         "type": "scatter",
         "x": [
          6656,
          7168
         ],
         "y": [
          26,
          26
         ]
        },
        {
         "marker": {
          "size": 10
         },
         "mode": "lines+markers",
         "name": "Anchor 27",
         "type": "scatter",
         "x": [
          6912,
          7424
         ],
         "y": [
          27,
          27
         ]
        },
        {
         "marker": {
          "size": 10
         },
         "mode": "lines+markers",
         "name": "Anchor 28",
         "type": "scatter",
         "x": [
          7168,
          7680
         ],
         "y": [
          28,
          28
         ]
        },
        {
         "marker": {
          "size": 10
         },
         "mode": "lines+markers",
         "name": "Anchor 29",
         "type": "scatter",
         "x": [
          7424,
          7936
         ],
         "y": [
          29,
          29
         ]
        },
        {
         "marker": {
          "size": 10
         },
         "mode": "lines+markers",
         "name": "Anchor 30",
         "type": "scatter",
         "x": [
          7680,
          8192
         ],
         "y": [
          30,
          30
         ]
        },
        {
         "marker": {
          "size": 10
         },
         "mode": "lines+markers",
         "name": "Anchor 31",
         "type": "scatter",
         "x": [
          7936,
          8448
         ],
         "y": [
          31,
          31
         ]
        },
        {
         "marker": {
          "size": 10
         },
         "mode": "lines+markers",
         "name": "Anchor 32",
         "type": "scatter",
         "x": [
          8192,
          8704
         ],
         "y": [
          32,
          32
         ]
        },
        {
         "marker": {
          "size": 10
         },
         "mode": "lines+markers",
         "name": "Anchor 33",
         "type": "scatter",
         "x": [
          8448,
          8960
         ],
         "y": [
          33,
          33
         ]
        },
        {
         "marker": {
          "size": 10
         },
         "mode": "lines+markers",
         "name": "Anchor 34",
         "type": "scatter",
         "x": [
          8704,
          9216
         ],
         "y": [
          34,
          34
         ]
        },
        {
         "marker": {
          "size": 10
         },
         "mode": "lines+markers",
         "name": "Anchor 35",
         "type": "scatter",
         "x": [
          8960,
          9472
         ],
         "y": [
          35,
          35
         ]
        },
        {
         "marker": {
          "size": 10
         },
         "mode": "lines+markers",
         "name": "Anchor 36",
         "type": "scatter",
         "x": [
          9216,
          9728
         ],
         "y": [
          36,
          36
         ]
        },
        {
         "marker": {
          "size": 10
         },
         "mode": "lines+markers",
         "name": "Anchor 37",
         "type": "scatter",
         "x": [
          9472,
          9984
         ],
         "y": [
          37,
          37
         ]
        },
        {
         "marker": {
          "size": 10
         },
         "mode": "lines+markers",
         "name": "Anchor 38",
         "type": "scatter",
         "x": [
          9728,
          10240
         ],
         "y": [
          38,
          38
         ]
        },
        {
         "marker": {
          "size": 10
         },
         "mode": "lines+markers",
         "name": "Anchor 39",
         "type": "scatter",
         "x": [
          9984,
          10496
         ],
         "y": [
          39,
          39
         ]
        },
        {
         "marker": {
          "size": 10
         },
         "mode": "lines+markers",
         "name": "Anchor 40",
         "type": "scatter",
         "x": [
          10240,
          10752
         ],
         "y": [
          40,
          40
         ]
        },
        {
         "marker": {
          "size": 10
         },
         "mode": "lines+markers",
         "name": "Anchor 41",
         "type": "scatter",
         "x": [
          10496,
          11008
         ],
         "y": [
          41,
          41
         ]
        },
        {
         "marker": {
          "size": 10
         },
         "mode": "lines+markers",
         "name": "Anchor 42",
         "type": "scatter",
         "x": [
          10752,
          11264
         ],
         "y": [
          42,
          42
         ]
        },
        {
         "marker": {
          "size": 10
         },
         "mode": "lines+markers",
         "name": "Anchor 43",
         "type": "scatter",
         "x": [
          11008,
          11520
         ],
         "y": [
          43,
          43
         ]
        },
        {
         "marker": {
          "size": 10
         },
         "mode": "lines+markers",
         "name": "Anchor 44",
         "type": "scatter",
         "x": [
          11264,
          11776
         ],
         "y": [
          44,
          44
         ]
        },
        {
         "marker": {
          "size": 10
         },
         "mode": "lines+markers",
         "name": "Anchor 45",
         "type": "scatter",
         "x": [
          11520,
          12032
         ],
         "y": [
          45,
          45
         ]
        },
        {
         "marker": {
          "size": 10
         },
         "mode": "lines+markers",
         "name": "Anchor 46",
         "type": "scatter",
         "x": [
          11776,
          12288
         ],
         "y": [
          46,
          46
         ]
        },
        {
         "marker": {
          "size": 10
         },
         "mode": "lines+markers",
         "name": "Anchor 47",
         "type": "scatter",
         "x": [
          12032,
          12544
         ],
         "y": [
          47,
          47
         ]
        },
        {
         "marker": {
          "size": 10
         },
         "mode": "lines+markers",
         "name": "Anchor 48",
         "type": "scatter",
         "x": [
          12288,
          12800
         ],
         "y": [
          48,
          48
         ]
        },
        {
         "marker": {
          "size": 10
         },
         "mode": "lines+markers",
         "name": "Anchor 49",
         "type": "scatter",
         "x": [
          12544,
          13056
         ],
         "y": [
          49,
          49
         ]
        },
        {
         "marker": {
          "size": 10
         },
         "mode": "lines+markers",
         "name": "Anchor 50",
         "type": "scatter",
         "x": [
          12800,
          13312
         ],
         "y": [
          50,
          50
         ]
        },
        {
         "marker": {
          "size": 10
         },
         "mode": "lines+markers",
         "name": "Anchor 51",
         "type": "scatter",
         "x": [
          13056,
          13568
         ],
         "y": [
          51,
          51
         ]
        },
        {
         "marker": {
          "size": 10
         },
         "mode": "lines+markers",
         "name": "Anchor 52",
         "type": "scatter",
         "x": [
          13312,
          13824
         ],
         "y": [
          52,
          52
         ]
        },
        {
         "marker": {
          "size": 10
         },
         "mode": "lines+markers",
         "name": "Anchor 53",
         "type": "scatter",
         "x": [
          13568,
          14080
         ],
         "y": [
          53,
          53
         ]
        },
        {
         "marker": {
          "size": 10
         },
         "mode": "lines+markers",
         "name": "Anchor 54",
         "type": "scatter",
         "x": [
          13824,
          14336
         ],
         "y": [
          54,
          54
         ]
        },
        {
         "marker": {
          "size": 10
         },
         "mode": "lines+markers",
         "name": "Anchor 55",
         "type": "scatter",
         "x": [
          14080,
          14592
         ],
         "y": [
          55,
          55
         ]
        },
        {
         "marker": {
          "size": 10
         },
         "mode": "lines+markers",
         "name": "Anchor 56",
         "type": "scatter",
         "x": [
          14336,
          14848
         ],
         "y": [
          56,
          56
         ]
        },
        {
         "marker": {
          "size": 10
         },
         "mode": "lines+markers",
         "name": "Anchor 57",
         "type": "scatter",
         "x": [
          14592,
          15104
         ],
         "y": [
          57,
          57
         ]
        },
        {
         "marker": {
          "size": 10
         },
         "mode": "lines+markers",
         "name": "Anchor 58",
         "type": "scatter",
         "x": [
          14848,
          15360
         ],
         "y": [
          58,
          58
         ]
        },
        {
         "marker": {
          "size": 10
         },
         "mode": "lines+markers",
         "name": "Anchor 59",
         "type": "scatter",
         "x": [
          15104,
          15616
         ],
         "y": [
          59,
          59
         ]
        },
        {
         "marker": {
          "size": 10
         },
         "mode": "lines+markers",
         "name": "Anchor 60",
         "type": "scatter",
         "x": [
          15360,
          15872
         ],
         "y": [
          60,
          60
         ]
        },
        {
         "marker": {
          "size": 10
         },
         "mode": "lines+markers",
         "name": "Anchor 61",
         "type": "scatter",
         "x": [
          15616,
          16128
         ],
         "y": [
          61,
          61
         ]
        },
        {
         "marker": {
          "size": 10
         },
         "mode": "lines+markers",
         "name": "Anchor 62",
         "type": "scatter",
         "x": [
          15872,
          16384
         ],
         "y": [
          62,
          62
         ]
        },
        {
         "marker": {
          "size": 10
         },
         "mode": "lines+markers",
         "name": "Anchor 63",
         "type": "scatter",
         "x": [
          16128,
          16640
         ],
         "y": [
          63,
          63
         ]
        },
        {
         "marker": {
          "size": 10
         },
         "mode": "lines+markers",
         "name": "Anchor 64",
         "type": "scatter",
         "x": [
          16384,
          16896
         ],
         "y": [
          64,
          64
         ]
        },
        {
         "marker": {
          "size": 10
         },
         "mode": "lines+markers",
         "name": "Anchor 65",
         "type": "scatter",
         "x": [
          16640,
          17152
         ],
         "y": [
          65,
          65
         ]
        },
        {
         "marker": {
          "size": 10
         },
         "mode": "lines+markers",
         "name": "Anchor 66",
         "type": "scatter",
         "x": [
          16896,
          17408
         ],
         "y": [
          66,
          66
         ]
        },
        {
         "marker": {
          "size": 10
         },
         "mode": "lines+markers",
         "name": "Anchor 67",
         "type": "scatter",
         "x": [
          0,
          2048
         ],
         "y": [
          67,
          67
         ]
        },
        {
         "marker": {
          "size": 10
         },
         "mode": "lines+markers",
         "name": "Anchor 68",
         "type": "scatter",
         "x": [
          1024,
          3072
         ],
         "y": [
          68,
          68
         ]
        },
        {
         "marker": {
          "size": 10
         },
         "mode": "lines+markers",
         "name": "Anchor 69",
         "type": "scatter",
         "x": [
          2048,
          4096
         ],
         "y": [
          69,
          69
         ]
        },
        {
         "marker": {
          "size": 10
         },
         "mode": "lines+markers",
         "name": "Anchor 70",
         "type": "scatter",
         "x": [
          3072,
          5120
         ],
         "y": [
          70,
          70
         ]
        },
        {
         "marker": {
          "size": 10
         },
         "mode": "lines+markers",
         "name": "Anchor 71",
         "type": "scatter",
         "x": [
          4096,
          6144
         ],
         "y": [
          71,
          71
         ]
        },
        {
         "marker": {
          "size": 10
         },
         "mode": "lines+markers",
         "name": "Anchor 72",
         "type": "scatter",
         "x": [
          5120,
          7168
         ],
         "y": [
          72,
          72
         ]
        },
        {
         "marker": {
          "size": 10
         },
         "mode": "lines+markers",
         "name": "Anchor 73",
         "type": "scatter",
         "x": [
          6144,
          8192
         ],
         "y": [
          73,
          73
         ]
        },
        {
         "marker": {
          "size": 10
         },
         "mode": "lines+markers",
         "name": "Anchor 74",
         "type": "scatter",
         "x": [
          7168,
          9216
         ],
         "y": [
          74,
          74
         ]
        },
        {
         "marker": {
          "size": 10
         },
         "mode": "lines+markers",
         "name": "Anchor 75",
         "type": "scatter",
         "x": [
          8192,
          10240
         ],
         "y": [
          75,
          75
         ]
        },
        {
         "marker": {
          "size": 10
         },
         "mode": "lines+markers",
         "name": "Anchor 76",
         "type": "scatter",
         "x": [
          9216,
          11264
         ],
         "y": [
          76,
          76
         ]
        },
        {
         "marker": {
          "size": 10
         },
         "mode": "lines+markers",
         "name": "Anchor 77",
         "type": "scatter",
         "x": [
          10240,
          12288
         ],
         "y": [
          77,
          77
         ]
        },
        {
         "marker": {
          "size": 10
         },
         "mode": "lines+markers",
         "name": "Anchor 78",
         "type": "scatter",
         "x": [
          11264,
          13312
         ],
         "y": [
          78,
          78
         ]
        },
        {
         "marker": {
          "size": 10
         },
         "mode": "lines+markers",
         "name": "Anchor 79",
         "type": "scatter",
         "x": [
          12288,
          14336
         ],
         "y": [
          79,
          79
         ]
        },
        {
         "marker": {
          "size": 10
         },
         "mode": "lines+markers",
         "name": "Anchor 80",
         "type": "scatter",
         "x": [
          13312,
          15360
         ],
         "y": [
          80,
          80
         ]
        },
        {
         "marker": {
          "size": 10
         },
         "mode": "lines+markers",
         "name": "Anchor 81",
         "type": "scatter",
         "x": [
          14336,
          16384
         ],
         "y": [
          81,
          81
         ]
        },
        {
         "marker": {
          "size": 10
         },
         "mode": "lines+markers",
         "name": "Anchor 82",
         "type": "scatter",
         "x": [
          15360,
          17408
         ],
         "y": [
          82,
          82
         ]
        },
        {
         "marker": {
          "size": 10
         },
         "mode": "lines+markers",
         "name": "Anchor 83",
         "type": "scatter",
         "x": [
          0,
          4096
         ],
         "y": [
          83,
          83
         ]
        },
        {
         "marker": {
          "size": 10
         },
         "mode": "lines+markers",
         "name": "Anchor 84",
         "type": "scatter",
         "x": [
          2048,
          6144
         ],
         "y": [
          84,
          84
         ]
        },
        {
         "marker": {
          "size": 10
         },
         "mode": "lines+markers",
         "name": "Anchor 85",
         "type": "scatter",
         "x": [
          4096,
          8192
         ],
         "y": [
          85,
          85
         ]
        },
        {
         "marker": {
          "size": 10
         },
         "mode": "lines+markers",
         "name": "Anchor 86",
         "type": "scatter",
         "x": [
          6144,
          10240
         ],
         "y": [
          86,
          86
         ]
        },
        {
         "marker": {
          "size": 10
         },
         "mode": "lines+markers",
         "name": "Anchor 87",
         "type": "scatter",
         "x": [
          8192,
          12288
         ],
         "y": [
          87,
          87
         ]
        },
        {
         "marker": {
          "size": 10
         },
         "mode": "lines+markers",
         "name": "Anchor 88",
         "type": "scatter",
         "x": [
          10240,
          14336
         ],
         "y": [
          88,
          88
         ]
        },
        {
         "marker": {
          "size": 10
         },
         "mode": "lines+markers",
         "name": "Anchor 89",
         "type": "scatter",
         "x": [
          12288,
          16384
         ],
         "y": [
          89,
          89
         ]
        },
        {
         "marker": {
          "size": 10
         },
         "mode": "lines+markers",
         "name": "Anchor 90",
         "type": "scatter",
         "x": [
          14336,
          18432
         ],
         "y": [
          90,
          90
         ]
        },
        {
         "marker": {
          "size": 10
         },
         "mode": "lines+markers",
         "name": "Anchor 91",
         "type": "scatter",
         "x": [
          0,
          8192
         ],
         "y": [
          91,
          91
         ]
        },
        {
         "marker": {
          "size": 10
         },
         "mode": "lines+markers",
         "name": "Anchor 92",
         "type": "scatter",
         "x": [
          4096,
          12288
         ],
         "y": [
          92,
          92
         ]
        },
        {
         "marker": {
          "size": 10
         },
         "mode": "lines+markers",
         "name": "Anchor 93",
         "type": "scatter",
         "x": [
          8192,
          16384
         ],
         "y": [
          93,
          93
         ]
        },
        {
         "marker": {
          "size": 10
         },
         "mode": "lines+markers",
         "name": "Anchor 94",
         "type": "scatter",
         "x": [
          12288,
          20480
         ],
         "y": [
          94,
          94
         ]
        },
        {
         "marker": {
          "size": 10
         },
         "mode": "lines+markers",
         "name": "Anchor 95",
         "type": "scatter",
         "x": [
          0,
          12288
         ],
         "y": [
          95,
          95
         ]
        },
        {
         "marker": {
          "size": 10
         },
         "mode": "lines+markers",
         "name": "Anchor 96",
         "type": "scatter",
         "x": [
          6144,
          18432
         ],
         "y": [
          96,
          96
         ]
        },
        {
         "marker": {
          "size": 10
         },
         "mode": "lines+markers",
         "name": "Anchor 97",
         "type": "scatter",
         "x": [
          0,
          16384
         ],
         "y": [
          97,
          97
         ]
        },
        {
         "marker": {
          "size": 10
         },
         "mode": "lines+markers",
         "name": "Anchor 98",
         "type": "scatter",
         "x": [
          8192,
          24576
         ],
         "y": [
          98,
          98
         ]
        }
       ],
       "layout": {
        "height": 10000,
        "showlegend": false,
        "template": {
         "data": {
          "bar": [
           {
            "error_x": {
             "color": "#2a3f5f"
            },
            "error_y": {
             "color": "#2a3f5f"
            },
            "marker": {
             "line": {
              "color": "#E5ECF6",
              "width": 0.5
             },
             "pattern": {
              "fillmode": "overlay",
              "size": 10,
              "solidity": 0.2
             }
            },
            "type": "bar"
           }
          ],
          "barpolar": [
           {
            "marker": {
             "line": {
              "color": "#E5ECF6",
              "width": 0.5
             },
             "pattern": {
              "fillmode": "overlay",
              "size": 10,
              "solidity": 0.2
             }
            },
            "type": "barpolar"
           }
          ],
          "carpet": [
           {
            "aaxis": {
             "endlinecolor": "#2a3f5f",
             "gridcolor": "white",
             "linecolor": "white",
             "minorgridcolor": "white",
             "startlinecolor": "#2a3f5f"
            },
            "baxis": {
             "endlinecolor": "#2a3f5f",
             "gridcolor": "white",
             "linecolor": "white",
             "minorgridcolor": "white",
             "startlinecolor": "#2a3f5f"
            },
            "type": "carpet"
           }
          ],
          "choropleth": [
           {
            "colorbar": {
             "outlinewidth": 0,
             "ticks": ""
            },
            "type": "choropleth"
           }
          ],
          "contour": [
           {
            "colorbar": {
             "outlinewidth": 0,
             "ticks": ""
            },
            "colorscale": [
             [
              0,
              "#0d0887"
             ],
             [
              0.1111111111111111,
              "#46039f"
             ],
             [
              0.2222222222222222,
              "#7201a8"
             ],
             [
              0.3333333333333333,
              "#9c179e"
             ],
             [
              0.4444444444444444,
              "#bd3786"
             ],
             [
              0.5555555555555556,
              "#d8576b"
             ],
             [
              0.6666666666666666,
              "#ed7953"
             ],
             [
              0.7777777777777778,
              "#fb9f3a"
             ],
             [
              0.8888888888888888,
              "#fdca26"
             ],
             [
              1,
              "#f0f921"
             ]
            ],
            "type": "contour"
           }
          ],
          "contourcarpet": [
           {
            "colorbar": {
             "outlinewidth": 0,
             "ticks": ""
            },
            "type": "contourcarpet"
           }
          ],
          "heatmap": [
           {
            "colorbar": {
             "outlinewidth": 0,
             "ticks": ""
            },
            "colorscale": [
             [
              0,
              "#0d0887"
             ],
             [
              0.1111111111111111,
              "#46039f"
             ],
             [
              0.2222222222222222,
              "#7201a8"
             ],
             [
              0.3333333333333333,
              "#9c179e"
             ],
             [
              0.4444444444444444,
              "#bd3786"
             ],
             [
              0.5555555555555556,
              "#d8576b"
             ],
             [
              0.6666666666666666,
              "#ed7953"
             ],
             [
              0.7777777777777778,
              "#fb9f3a"
             ],
             [
              0.8888888888888888,
              "#fdca26"
             ],
             [
              1,
              "#f0f921"
             ]
            ],
            "type": "heatmap"
           }
          ],
          "heatmapgl": [
           {
            "colorbar": {
             "outlinewidth": 0,
             "ticks": ""
            },
            "colorscale": [
             [
              0,
              "#0d0887"
             ],
             [
              0.1111111111111111,
              "#46039f"
             ],
             [
              0.2222222222222222,
              "#7201a8"
             ],
             [
              0.3333333333333333,
              "#9c179e"
             ],
             [
              0.4444444444444444,
              "#bd3786"
             ],
             [
              0.5555555555555556,
              "#d8576b"
             ],
             [
              0.6666666666666666,
              "#ed7953"
             ],
             [
              0.7777777777777778,
              "#fb9f3a"
             ],
             [
              0.8888888888888888,
              "#fdca26"
             ],
             [
              1,
              "#f0f921"
             ]
            ],
            "type": "heatmapgl"
           }
          ],
          "histogram": [
           {
            "marker": {
             "pattern": {
              "fillmode": "overlay",
              "size": 10,
              "solidity": 0.2
             }
            },
            "type": "histogram"
           }
          ],
          "histogram2d": [
           {
            "colorbar": {
             "outlinewidth": 0,
             "ticks": ""
            },
            "colorscale": [
             [
              0,
              "#0d0887"
             ],
             [
              0.1111111111111111,
              "#46039f"
             ],
             [
              0.2222222222222222,
              "#7201a8"
             ],
             [
              0.3333333333333333,
              "#9c179e"
             ],
             [
              0.4444444444444444,
              "#bd3786"
             ],
             [
              0.5555555555555556,
              "#d8576b"
             ],
             [
              0.6666666666666666,
              "#ed7953"
             ],
             [
              0.7777777777777778,
              "#fb9f3a"
             ],
             [
              0.8888888888888888,
              "#fdca26"
             ],
             [
              1,
              "#f0f921"
             ]
            ],
            "type": "histogram2d"
           }
          ],
          "histogram2dcontour": [
           {
            "colorbar": {
             "outlinewidth": 0,
             "ticks": ""
            },
            "colorscale": [
             [
              0,
              "#0d0887"
             ],
             [
              0.1111111111111111,
              "#46039f"
             ],
             [
              0.2222222222222222,
              "#7201a8"
             ],
             [
              0.3333333333333333,
              "#9c179e"
             ],
             [
              0.4444444444444444,
              "#bd3786"
             ],
             [
              0.5555555555555556,
              "#d8576b"
             ],
             [
              0.6666666666666666,
              "#ed7953"
             ],
             [
              0.7777777777777778,
              "#fb9f3a"
             ],
             [
              0.8888888888888888,
              "#fdca26"
             ],
             [
              1,
              "#f0f921"
             ]
            ],
            "type": "histogram2dcontour"
           }
          ],
          "mesh3d": [
           {
            "colorbar": {
             "outlinewidth": 0,
             "ticks": ""
            },
            "type": "mesh3d"
           }
          ],
          "parcoords": [
           {
            "line": {
             "colorbar": {
              "outlinewidth": 0,
              "ticks": ""
             }
            },
            "type": "parcoords"
           }
          ],
          "pie": [
           {
            "automargin": true,
            "type": "pie"
           }
          ],
          "scatter": [
           {
            "fillpattern": {
             "fillmode": "overlay",
             "size": 10,
             "solidity": 0.2
            },
            "type": "scatter"
           }
          ],
          "scatter3d": [
           {
            "line": {
             "colorbar": {
              "outlinewidth": 0,
              "ticks": ""
             }
            },
            "marker": {
             "colorbar": {
              "outlinewidth": 0,
              "ticks": ""
             }
            },
            "type": "scatter3d"
           }
          ],
          "scattercarpet": [
           {
            "marker": {
             "colorbar": {
              "outlinewidth": 0,
              "ticks": ""
             }
            },
            "type": "scattercarpet"
           }
          ],
          "scattergeo": [
           {
            "marker": {
             "colorbar": {
              "outlinewidth": 0,
              "ticks": ""
             }
            },
            "type": "scattergeo"
           }
          ],
          "scattergl": [
           {
            "marker": {
             "colorbar": {
              "outlinewidth": 0,
              "ticks": ""
             }
            },
            "type": "scattergl"
           }
          ],
          "scattermapbox": [
           {
            "marker": {
             "colorbar": {
              "outlinewidth": 0,
              "ticks": ""
             }
            },
            "type": "scattermapbox"
           }
          ],
          "scatterpolar": [
           {
            "marker": {
             "colorbar": {
              "outlinewidth": 0,
              "ticks": ""
             }
            },
            "type": "scatterpolar"
           }
          ],
          "scatterpolargl": [
           {
            "marker": {
             "colorbar": {
              "outlinewidth": 0,
              "ticks": ""
             }
            },
            "type": "scatterpolargl"
           }
          ],
          "scatterternary": [
           {
            "marker": {
             "colorbar": {
              "outlinewidth": 0,
              "ticks": ""
             }
            },
            "type": "scatterternary"
           }
          ],
          "surface": [
           {
            "colorbar": {
             "outlinewidth": 0,
             "ticks": ""
            },
            "colorscale": [
             [
              0,
              "#0d0887"
             ],
             [
              0.1111111111111111,
              "#46039f"
             ],
             [
              0.2222222222222222,
              "#7201a8"
             ],
             [
              0.3333333333333333,
              "#9c179e"
             ],
             [
              0.4444444444444444,
              "#bd3786"
             ],
             [
              0.5555555555555556,
              "#d8576b"
             ],
             [
              0.6666666666666666,
              "#ed7953"
             ],
             [
              0.7777777777777778,
              "#fb9f3a"
             ],
             [
              0.8888888888888888,
              "#fdca26"
             ],
             [
              1,
              "#f0f921"
             ]
            ],
            "type": "surface"
           }
          ],
          "table": [
           {
            "cells": {
             "fill": {
              "color": "#EBF0F8"
             },
             "line": {
              "color": "white"
             }
            },
            "header": {
             "fill": {
              "color": "#C8D4E3"
             },
             "line": {
              "color": "white"
             }
            },
            "type": "table"
           }
          ]
         },
         "layout": {
          "annotationdefaults": {
           "arrowcolor": "#2a3f5f",
           "arrowhead": 0,
           "arrowwidth": 1
          },
          "autotypenumbers": "strict",
          "coloraxis": {
           "colorbar": {
            "outlinewidth": 0,
            "ticks": ""
           }
          },
          "colorscale": {
           "diverging": [
            [
             0,
             "#8e0152"
            ],
            [
             0.1,
             "#c51b7d"
            ],
            [
             0.2,
             "#de77ae"
            ],
            [
             0.3,
             "#f1b6da"
            ],
            [
             0.4,
             "#fde0ef"
            ],
            [
             0.5,
             "#f7f7f7"
            ],
            [
             0.6,
             "#e6f5d0"
            ],
            [
             0.7,
             "#b8e186"
            ],
            [
             0.8,
             "#7fbc41"
            ],
            [
             0.9,
             "#4d9221"
            ],
            [
             1,
             "#276419"
            ]
           ],
           "sequential": [
            [
             0,
             "#0d0887"
            ],
            [
             0.1111111111111111,
             "#46039f"
            ],
            [
             0.2222222222222222,
             "#7201a8"
            ],
            [
             0.3333333333333333,
             "#9c179e"
            ],
            [
             0.4444444444444444,
             "#bd3786"
            ],
            [
             0.5555555555555556,
             "#d8576b"
            ],
            [
             0.6666666666666666,
             "#ed7953"
            ],
            [
             0.7777777777777778,
             "#fb9f3a"
            ],
            [
             0.8888888888888888,
             "#fdca26"
            ],
            [
             1,
             "#f0f921"
            ]
           ],
           "sequentialminus": [
            [
             0,
             "#0d0887"
            ],
            [
             0.1111111111111111,
             "#46039f"
            ],
            [
             0.2222222222222222,
             "#7201a8"
            ],
            [
             0.3333333333333333,
             "#9c179e"
            ],
            [
             0.4444444444444444,
             "#bd3786"
            ],
            [
             0.5555555555555556,
             "#d8576b"
            ],
            [
             0.6666666666666666,
             "#ed7953"
            ],
            [
             0.7777777777777778,
             "#fb9f3a"
            ],
            [
             0.8888888888888888,
             "#fdca26"
            ],
            [
             1,
             "#f0f921"
            ]
           ]
          },
          "colorway": [
           "#636efa",
           "#EF553B",
           "#00cc96",
           "#ab63fa",
           "#FFA15A",
           "#19d3f3",
           "#FF6692",
           "#B6E880",
           "#FF97FF",
           "#FECB52"
          ],
          "font": {
           "color": "#2a3f5f"
          },
          "geo": {
           "bgcolor": "white",
           "lakecolor": "white",
           "landcolor": "#E5ECF6",
           "showlakes": true,
           "showland": true,
           "subunitcolor": "white"
          },
          "hoverlabel": {
           "align": "left"
          },
          "hovermode": "closest",
          "mapbox": {
           "style": "light"
          },
          "paper_bgcolor": "white",
          "plot_bgcolor": "#E5ECF6",
          "polar": {
           "angularaxis": {
            "gridcolor": "white",
            "linecolor": "white",
            "ticks": ""
           },
           "bgcolor": "#E5ECF6",
           "radialaxis": {
            "gridcolor": "white",
            "linecolor": "white",
            "ticks": ""
           }
          },
          "scene": {
           "xaxis": {
            "backgroundcolor": "#E5ECF6",
            "gridcolor": "white",
            "gridwidth": 2,
            "linecolor": "white",
            "showbackground": true,
            "ticks": "",
            "zerolinecolor": "white"
           },
           "yaxis": {
            "backgroundcolor": "#E5ECF6",
            "gridcolor": "white",
            "gridwidth": 2,
            "linecolor": "white",
            "showbackground": true,
            "ticks": "",
            "zerolinecolor": "white"
           },
           "zaxis": {
            "backgroundcolor": "#E5ECF6",
            "gridcolor": "white",
            "gridwidth": 2,
            "linecolor": "white",
            "showbackground": true,
            "ticks": "",
            "zerolinecolor": "white"
           }
          },
          "shapedefaults": {
           "line": {
            "color": "#2a3f5f"
           }
          },
          "ternary": {
           "aaxis": {
            "gridcolor": "white",
            "linecolor": "white",
            "ticks": ""
           },
           "baxis": {
            "gridcolor": "white",
            "linecolor": "white",
            "ticks": ""
           },
           "bgcolor": "#E5ECF6",
           "caxis": {
            "gridcolor": "white",
            "linecolor": "white",
            "ticks": ""
           }
          },
          "title": {
           "x": 0.05
          },
          "xaxis": {
           "automargin": true,
           "gridcolor": "white",
           "linecolor": "white",
           "ticks": "",
           "title": {
            "standoff": 15
           },
           "zerolinecolor": "white",
           "zerolinewidth": 2
          },
          "yaxis": {
           "automargin": true,
           "gridcolor": "white",
           "linecolor": "white",
           "ticks": "",
           "title": {
            "standoff": 15
           },
           "zerolinecolor": "white",
           "zerolinewidth": 2
          }
         }
        },
        "title": {
         "text": "1D Anchors Visualization"
        },
        "xaxis": {
         "title": {
          "text": "Signal"
         }
        },
        "yaxis": {
         "title": {
          "text": "Anchors"
         }
        }
       }
      },
      "text/html": [
       "<div>                            <div id=\"ee75b29c-7373-473d-b86f-f9f6737b8f60\" class=\"plotly-graph-div\" style=\"height:10000px; width:100%;\"></div>            <script type=\"text/javascript\">                require([\"plotly\"], function(Plotly) {                    window.PLOTLYENV=window.PLOTLYENV || {};                                    if (document.getElementById(\"ee75b29c-7373-473d-b86f-f9f6737b8f60\")) {                    Plotly.newPlot(                        \"ee75b29c-7373-473d-b86f-f9f6737b8f60\",                        [{\"marker\":{\"size\":10},\"mode\":\"lines+markers\",\"name\":\"Anchor 0\",\"x\":[0.0,512.0],\"y\":[0,0],\"type\":\"scatter\"},{\"marker\":{\"size\":10},\"mode\":\"lines+markers\",\"name\":\"Anchor 1\",\"x\":[256.0,768.0],\"y\":[1,1],\"type\":\"scatter\"},{\"marker\":{\"size\":10},\"mode\":\"lines+markers\",\"name\":\"Anchor 2\",\"x\":[512.0,1024.0],\"y\":[2,2],\"type\":\"scatter\"},{\"marker\":{\"size\":10},\"mode\":\"lines+markers\",\"name\":\"Anchor 3\",\"x\":[768.0,1280.0],\"y\":[3,3],\"type\":\"scatter\"},{\"marker\":{\"size\":10},\"mode\":\"lines+markers\",\"name\":\"Anchor 4\",\"x\":[1024.0,1536.0],\"y\":[4,4],\"type\":\"scatter\"},{\"marker\":{\"size\":10},\"mode\":\"lines+markers\",\"name\":\"Anchor 5\",\"x\":[1280.0,1792.0],\"y\":[5,5],\"type\":\"scatter\"},{\"marker\":{\"size\":10},\"mode\":\"lines+markers\",\"name\":\"Anchor 6\",\"x\":[1536.0,2048.0],\"y\":[6,6],\"type\":\"scatter\"},{\"marker\":{\"size\":10},\"mode\":\"lines+markers\",\"name\":\"Anchor 7\",\"x\":[1792.0,2304.0],\"y\":[7,7],\"type\":\"scatter\"},{\"marker\":{\"size\":10},\"mode\":\"lines+markers\",\"name\":\"Anchor 8\",\"x\":[2048.0,2560.0],\"y\":[8,8],\"type\":\"scatter\"},{\"marker\":{\"size\":10},\"mode\":\"lines+markers\",\"name\":\"Anchor 9\",\"x\":[2304.0,2816.0],\"y\":[9,9],\"type\":\"scatter\"},{\"marker\":{\"size\":10},\"mode\":\"lines+markers\",\"name\":\"Anchor 10\",\"x\":[2560.0,3072.0],\"y\":[10,10],\"type\":\"scatter\"},{\"marker\":{\"size\":10},\"mode\":\"lines+markers\",\"name\":\"Anchor 11\",\"x\":[2816.0,3328.0],\"y\":[11,11],\"type\":\"scatter\"},{\"marker\":{\"size\":10},\"mode\":\"lines+markers\",\"name\":\"Anchor 12\",\"x\":[3072.0,3584.0],\"y\":[12,12],\"type\":\"scatter\"},{\"marker\":{\"size\":10},\"mode\":\"lines+markers\",\"name\":\"Anchor 13\",\"x\":[3328.0,3840.0],\"y\":[13,13],\"type\":\"scatter\"},{\"marker\":{\"size\":10},\"mode\":\"lines+markers\",\"name\":\"Anchor 14\",\"x\":[3584.0,4096.0],\"y\":[14,14],\"type\":\"scatter\"},{\"marker\":{\"size\":10},\"mode\":\"lines+markers\",\"name\":\"Anchor 15\",\"x\":[3840.0,4352.0],\"y\":[15,15],\"type\":\"scatter\"},{\"marker\":{\"size\":10},\"mode\":\"lines+markers\",\"name\":\"Anchor 16\",\"x\":[4096.0,4608.0],\"y\":[16,16],\"type\":\"scatter\"},{\"marker\":{\"size\":10},\"mode\":\"lines+markers\",\"name\":\"Anchor 17\",\"x\":[4352.0,4864.0],\"y\":[17,17],\"type\":\"scatter\"},{\"marker\":{\"size\":10},\"mode\":\"lines+markers\",\"name\":\"Anchor 18\",\"x\":[4608.0,5120.0],\"y\":[18,18],\"type\":\"scatter\"},{\"marker\":{\"size\":10},\"mode\":\"lines+markers\",\"name\":\"Anchor 19\",\"x\":[4864.0,5376.0],\"y\":[19,19],\"type\":\"scatter\"},{\"marker\":{\"size\":10},\"mode\":\"lines+markers\",\"name\":\"Anchor 20\",\"x\":[5120.0,5632.0],\"y\":[20,20],\"type\":\"scatter\"},{\"marker\":{\"size\":10},\"mode\":\"lines+markers\",\"name\":\"Anchor 21\",\"x\":[5376.0,5888.0],\"y\":[21,21],\"type\":\"scatter\"},{\"marker\":{\"size\":10},\"mode\":\"lines+markers\",\"name\":\"Anchor 22\",\"x\":[5632.0,6144.0],\"y\":[22,22],\"type\":\"scatter\"},{\"marker\":{\"size\":10},\"mode\":\"lines+markers\",\"name\":\"Anchor 23\",\"x\":[5888.0,6400.0],\"y\":[23,23],\"type\":\"scatter\"},{\"marker\":{\"size\":10},\"mode\":\"lines+markers\",\"name\":\"Anchor 24\",\"x\":[6144.0,6656.0],\"y\":[24,24],\"type\":\"scatter\"},{\"marker\":{\"size\":10},\"mode\":\"lines+markers\",\"name\":\"Anchor 25\",\"x\":[6400.0,6912.0],\"y\":[25,25],\"type\":\"scatter\"},{\"marker\":{\"size\":10},\"mode\":\"lines+markers\",\"name\":\"Anchor 26\",\"x\":[6656.0,7168.0],\"y\":[26,26],\"type\":\"scatter\"},{\"marker\":{\"size\":10},\"mode\":\"lines+markers\",\"name\":\"Anchor 27\",\"x\":[6912.0,7424.0],\"y\":[27,27],\"type\":\"scatter\"},{\"marker\":{\"size\":10},\"mode\":\"lines+markers\",\"name\":\"Anchor 28\",\"x\":[7168.0,7680.0],\"y\":[28,28],\"type\":\"scatter\"},{\"marker\":{\"size\":10},\"mode\":\"lines+markers\",\"name\":\"Anchor 29\",\"x\":[7424.0,7936.0],\"y\":[29,29],\"type\":\"scatter\"},{\"marker\":{\"size\":10},\"mode\":\"lines+markers\",\"name\":\"Anchor 30\",\"x\":[7680.0,8192.0],\"y\":[30,30],\"type\":\"scatter\"},{\"marker\":{\"size\":10},\"mode\":\"lines+markers\",\"name\":\"Anchor 31\",\"x\":[7936.0,8448.0],\"y\":[31,31],\"type\":\"scatter\"},{\"marker\":{\"size\":10},\"mode\":\"lines+markers\",\"name\":\"Anchor 32\",\"x\":[8192.0,8704.0],\"y\":[32,32],\"type\":\"scatter\"},{\"marker\":{\"size\":10},\"mode\":\"lines+markers\",\"name\":\"Anchor 33\",\"x\":[8448.0,8960.0],\"y\":[33,33],\"type\":\"scatter\"},{\"marker\":{\"size\":10},\"mode\":\"lines+markers\",\"name\":\"Anchor 34\",\"x\":[8704.0,9216.0],\"y\":[34,34],\"type\":\"scatter\"},{\"marker\":{\"size\":10},\"mode\":\"lines+markers\",\"name\":\"Anchor 35\",\"x\":[8960.0,9472.0],\"y\":[35,35],\"type\":\"scatter\"},{\"marker\":{\"size\":10},\"mode\":\"lines+markers\",\"name\":\"Anchor 36\",\"x\":[9216.0,9728.0],\"y\":[36,36],\"type\":\"scatter\"},{\"marker\":{\"size\":10},\"mode\":\"lines+markers\",\"name\":\"Anchor 37\",\"x\":[9472.0,9984.0],\"y\":[37,37],\"type\":\"scatter\"},{\"marker\":{\"size\":10},\"mode\":\"lines+markers\",\"name\":\"Anchor 38\",\"x\":[9728.0,10240.0],\"y\":[38,38],\"type\":\"scatter\"},{\"marker\":{\"size\":10},\"mode\":\"lines+markers\",\"name\":\"Anchor 39\",\"x\":[9984.0,10496.0],\"y\":[39,39],\"type\":\"scatter\"},{\"marker\":{\"size\":10},\"mode\":\"lines+markers\",\"name\":\"Anchor 40\",\"x\":[10240.0,10752.0],\"y\":[40,40],\"type\":\"scatter\"},{\"marker\":{\"size\":10},\"mode\":\"lines+markers\",\"name\":\"Anchor 41\",\"x\":[10496.0,11008.0],\"y\":[41,41],\"type\":\"scatter\"},{\"marker\":{\"size\":10},\"mode\":\"lines+markers\",\"name\":\"Anchor 42\",\"x\":[10752.0,11264.0],\"y\":[42,42],\"type\":\"scatter\"},{\"marker\":{\"size\":10},\"mode\":\"lines+markers\",\"name\":\"Anchor 43\",\"x\":[11008.0,11520.0],\"y\":[43,43],\"type\":\"scatter\"},{\"marker\":{\"size\":10},\"mode\":\"lines+markers\",\"name\":\"Anchor 44\",\"x\":[11264.0,11776.0],\"y\":[44,44],\"type\":\"scatter\"},{\"marker\":{\"size\":10},\"mode\":\"lines+markers\",\"name\":\"Anchor 45\",\"x\":[11520.0,12032.0],\"y\":[45,45],\"type\":\"scatter\"},{\"marker\":{\"size\":10},\"mode\":\"lines+markers\",\"name\":\"Anchor 46\",\"x\":[11776.0,12288.0],\"y\":[46,46],\"type\":\"scatter\"},{\"marker\":{\"size\":10},\"mode\":\"lines+markers\",\"name\":\"Anchor 47\",\"x\":[12032.0,12544.0],\"y\":[47,47],\"type\":\"scatter\"},{\"marker\":{\"size\":10},\"mode\":\"lines+markers\",\"name\":\"Anchor 48\",\"x\":[12288.0,12800.0],\"y\":[48,48],\"type\":\"scatter\"},{\"marker\":{\"size\":10},\"mode\":\"lines+markers\",\"name\":\"Anchor 49\",\"x\":[12544.0,13056.0],\"y\":[49,49],\"type\":\"scatter\"},{\"marker\":{\"size\":10},\"mode\":\"lines+markers\",\"name\":\"Anchor 50\",\"x\":[12800.0,13312.0],\"y\":[50,50],\"type\":\"scatter\"},{\"marker\":{\"size\":10},\"mode\":\"lines+markers\",\"name\":\"Anchor 51\",\"x\":[13056.0,13568.0],\"y\":[51,51],\"type\":\"scatter\"},{\"marker\":{\"size\":10},\"mode\":\"lines+markers\",\"name\":\"Anchor 52\",\"x\":[13312.0,13824.0],\"y\":[52,52],\"type\":\"scatter\"},{\"marker\":{\"size\":10},\"mode\":\"lines+markers\",\"name\":\"Anchor 53\",\"x\":[13568.0,14080.0],\"y\":[53,53],\"type\":\"scatter\"},{\"marker\":{\"size\":10},\"mode\":\"lines+markers\",\"name\":\"Anchor 54\",\"x\":[13824.0,14336.0],\"y\":[54,54],\"type\":\"scatter\"},{\"marker\":{\"size\":10},\"mode\":\"lines+markers\",\"name\":\"Anchor 55\",\"x\":[14080.0,14592.0],\"y\":[55,55],\"type\":\"scatter\"},{\"marker\":{\"size\":10},\"mode\":\"lines+markers\",\"name\":\"Anchor 56\",\"x\":[14336.0,14848.0],\"y\":[56,56],\"type\":\"scatter\"},{\"marker\":{\"size\":10},\"mode\":\"lines+markers\",\"name\":\"Anchor 57\",\"x\":[14592.0,15104.0],\"y\":[57,57],\"type\":\"scatter\"},{\"marker\":{\"size\":10},\"mode\":\"lines+markers\",\"name\":\"Anchor 58\",\"x\":[14848.0,15360.0],\"y\":[58,58],\"type\":\"scatter\"},{\"marker\":{\"size\":10},\"mode\":\"lines+markers\",\"name\":\"Anchor 59\",\"x\":[15104.0,15616.0],\"y\":[59,59],\"type\":\"scatter\"},{\"marker\":{\"size\":10},\"mode\":\"lines+markers\",\"name\":\"Anchor 60\",\"x\":[15360.0,15872.0],\"y\":[60,60],\"type\":\"scatter\"},{\"marker\":{\"size\":10},\"mode\":\"lines+markers\",\"name\":\"Anchor 61\",\"x\":[15616.0,16128.0],\"y\":[61,61],\"type\":\"scatter\"},{\"marker\":{\"size\":10},\"mode\":\"lines+markers\",\"name\":\"Anchor 62\",\"x\":[15872.0,16384.0],\"y\":[62,62],\"type\":\"scatter\"},{\"marker\":{\"size\":10},\"mode\":\"lines+markers\",\"name\":\"Anchor 63\",\"x\":[16128.0,16640.0],\"y\":[63,63],\"type\":\"scatter\"},{\"marker\":{\"size\":10},\"mode\":\"lines+markers\",\"name\":\"Anchor 64\",\"x\":[16384.0,16896.0],\"y\":[64,64],\"type\":\"scatter\"},{\"marker\":{\"size\":10},\"mode\":\"lines+markers\",\"name\":\"Anchor 65\",\"x\":[16640.0,17152.0],\"y\":[65,65],\"type\":\"scatter\"},{\"marker\":{\"size\":10},\"mode\":\"lines+markers\",\"name\":\"Anchor 66\",\"x\":[16896.0,17408.0],\"y\":[66,66],\"type\":\"scatter\"},{\"marker\":{\"size\":10},\"mode\":\"lines+markers\",\"name\":\"Anchor 67\",\"x\":[0.0,2048.0],\"y\":[67,67],\"type\":\"scatter\"},{\"marker\":{\"size\":10},\"mode\":\"lines+markers\",\"name\":\"Anchor 68\",\"x\":[1024.0,3072.0],\"y\":[68,68],\"type\":\"scatter\"},{\"marker\":{\"size\":10},\"mode\":\"lines+markers\",\"name\":\"Anchor 69\",\"x\":[2048.0,4096.0],\"y\":[69,69],\"type\":\"scatter\"},{\"marker\":{\"size\":10},\"mode\":\"lines+markers\",\"name\":\"Anchor 70\",\"x\":[3072.0,5120.0],\"y\":[70,70],\"type\":\"scatter\"},{\"marker\":{\"size\":10},\"mode\":\"lines+markers\",\"name\":\"Anchor 71\",\"x\":[4096.0,6144.0],\"y\":[71,71],\"type\":\"scatter\"},{\"marker\":{\"size\":10},\"mode\":\"lines+markers\",\"name\":\"Anchor 72\",\"x\":[5120.0,7168.0],\"y\":[72,72],\"type\":\"scatter\"},{\"marker\":{\"size\":10},\"mode\":\"lines+markers\",\"name\":\"Anchor 73\",\"x\":[6144.0,8192.0],\"y\":[73,73],\"type\":\"scatter\"},{\"marker\":{\"size\":10},\"mode\":\"lines+markers\",\"name\":\"Anchor 74\",\"x\":[7168.0,9216.0],\"y\":[74,74],\"type\":\"scatter\"},{\"marker\":{\"size\":10},\"mode\":\"lines+markers\",\"name\":\"Anchor 75\",\"x\":[8192.0,10240.0],\"y\":[75,75],\"type\":\"scatter\"},{\"marker\":{\"size\":10},\"mode\":\"lines+markers\",\"name\":\"Anchor 76\",\"x\":[9216.0,11264.0],\"y\":[76,76],\"type\":\"scatter\"},{\"marker\":{\"size\":10},\"mode\":\"lines+markers\",\"name\":\"Anchor 77\",\"x\":[10240.0,12288.0],\"y\":[77,77],\"type\":\"scatter\"},{\"marker\":{\"size\":10},\"mode\":\"lines+markers\",\"name\":\"Anchor 78\",\"x\":[11264.0,13312.0],\"y\":[78,78],\"type\":\"scatter\"},{\"marker\":{\"size\":10},\"mode\":\"lines+markers\",\"name\":\"Anchor 79\",\"x\":[12288.0,14336.0],\"y\":[79,79],\"type\":\"scatter\"},{\"marker\":{\"size\":10},\"mode\":\"lines+markers\",\"name\":\"Anchor 80\",\"x\":[13312.0,15360.0],\"y\":[80,80],\"type\":\"scatter\"},{\"marker\":{\"size\":10},\"mode\":\"lines+markers\",\"name\":\"Anchor 81\",\"x\":[14336.0,16384.0],\"y\":[81,81],\"type\":\"scatter\"},{\"marker\":{\"size\":10},\"mode\":\"lines+markers\",\"name\":\"Anchor 82\",\"x\":[15360.0,17408.0],\"y\":[82,82],\"type\":\"scatter\"},{\"marker\":{\"size\":10},\"mode\":\"lines+markers\",\"name\":\"Anchor 83\",\"x\":[0.0,4096.0],\"y\":[83,83],\"type\":\"scatter\"},{\"marker\":{\"size\":10},\"mode\":\"lines+markers\",\"name\":\"Anchor 84\",\"x\":[2048.0,6144.0],\"y\":[84,84],\"type\":\"scatter\"},{\"marker\":{\"size\":10},\"mode\":\"lines+markers\",\"name\":\"Anchor 85\",\"x\":[4096.0,8192.0],\"y\":[85,85],\"type\":\"scatter\"},{\"marker\":{\"size\":10},\"mode\":\"lines+markers\",\"name\":\"Anchor 86\",\"x\":[6144.0,10240.0],\"y\":[86,86],\"type\":\"scatter\"},{\"marker\":{\"size\":10},\"mode\":\"lines+markers\",\"name\":\"Anchor 87\",\"x\":[8192.0,12288.0],\"y\":[87,87],\"type\":\"scatter\"},{\"marker\":{\"size\":10},\"mode\":\"lines+markers\",\"name\":\"Anchor 88\",\"x\":[10240.0,14336.0],\"y\":[88,88],\"type\":\"scatter\"},{\"marker\":{\"size\":10},\"mode\":\"lines+markers\",\"name\":\"Anchor 89\",\"x\":[12288.0,16384.0],\"y\":[89,89],\"type\":\"scatter\"},{\"marker\":{\"size\":10},\"mode\":\"lines+markers\",\"name\":\"Anchor 90\",\"x\":[14336.0,18432.0],\"y\":[90,90],\"type\":\"scatter\"},{\"marker\":{\"size\":10},\"mode\":\"lines+markers\",\"name\":\"Anchor 91\",\"x\":[0.0,8192.0],\"y\":[91,91],\"type\":\"scatter\"},{\"marker\":{\"size\":10},\"mode\":\"lines+markers\",\"name\":\"Anchor 92\",\"x\":[4096.0,12288.0],\"y\":[92,92],\"type\":\"scatter\"},{\"marker\":{\"size\":10},\"mode\":\"lines+markers\",\"name\":\"Anchor 93\",\"x\":[8192.0,16384.0],\"y\":[93,93],\"type\":\"scatter\"},{\"marker\":{\"size\":10},\"mode\":\"lines+markers\",\"name\":\"Anchor 94\",\"x\":[12288.0,20480.0],\"y\":[94,94],\"type\":\"scatter\"},{\"marker\":{\"size\":10},\"mode\":\"lines+markers\",\"name\":\"Anchor 95\",\"x\":[0.0,12288.0],\"y\":[95,95],\"type\":\"scatter\"},{\"marker\":{\"size\":10},\"mode\":\"lines+markers\",\"name\":\"Anchor 96\",\"x\":[6144.0,18432.0],\"y\":[96,96],\"type\":\"scatter\"},{\"marker\":{\"size\":10},\"mode\":\"lines+markers\",\"name\":\"Anchor 97\",\"x\":[0.0,16384.0],\"y\":[97,97],\"type\":\"scatter\"},{\"marker\":{\"size\":10},\"mode\":\"lines+markers\",\"name\":\"Anchor 98\",\"x\":[8192.0,24576.0],\"y\":[98,98],\"type\":\"scatter\"}],                        {\"template\":{\"data\":{\"histogram2dcontour\":[{\"type\":\"histogram2dcontour\",\"colorbar\":{\"outlinewidth\":0,\"ticks\":\"\"},\"colorscale\":[[0.0,\"#0d0887\"],[0.1111111111111111,\"#46039f\"],[0.2222222222222222,\"#7201a8\"],[0.3333333333333333,\"#9c179e\"],[0.4444444444444444,\"#bd3786\"],[0.5555555555555556,\"#d8576b\"],[0.6666666666666666,\"#ed7953\"],[0.7777777777777778,\"#fb9f3a\"],[0.8888888888888888,\"#fdca26\"],[1.0,\"#f0f921\"]]}],\"choropleth\":[{\"type\":\"choropleth\",\"colorbar\":{\"outlinewidth\":0,\"ticks\":\"\"}}],\"histogram2d\":[{\"type\":\"histogram2d\",\"colorbar\":{\"outlinewidth\":0,\"ticks\":\"\"},\"colorscale\":[[0.0,\"#0d0887\"],[0.1111111111111111,\"#46039f\"],[0.2222222222222222,\"#7201a8\"],[0.3333333333333333,\"#9c179e\"],[0.4444444444444444,\"#bd3786\"],[0.5555555555555556,\"#d8576b\"],[0.6666666666666666,\"#ed7953\"],[0.7777777777777778,\"#fb9f3a\"],[0.8888888888888888,\"#fdca26\"],[1.0,\"#f0f921\"]]}],\"heatmap\":[{\"type\":\"heatmap\",\"colorbar\":{\"outlinewidth\":0,\"ticks\":\"\"},\"colorscale\":[[0.0,\"#0d0887\"],[0.1111111111111111,\"#46039f\"],[0.2222222222222222,\"#7201a8\"],[0.3333333333333333,\"#9c179e\"],[0.4444444444444444,\"#bd3786\"],[0.5555555555555556,\"#d8576b\"],[0.6666666666666666,\"#ed7953\"],[0.7777777777777778,\"#fb9f3a\"],[0.8888888888888888,\"#fdca26\"],[1.0,\"#f0f921\"]]}],\"heatmapgl\":[{\"type\":\"heatmapgl\",\"colorbar\":{\"outlinewidth\":0,\"ticks\":\"\"},\"colorscale\":[[0.0,\"#0d0887\"],[0.1111111111111111,\"#46039f\"],[0.2222222222222222,\"#7201a8\"],[0.3333333333333333,\"#9c179e\"],[0.4444444444444444,\"#bd3786\"],[0.5555555555555556,\"#d8576b\"],[0.6666666666666666,\"#ed7953\"],[0.7777777777777778,\"#fb9f3a\"],[0.8888888888888888,\"#fdca26\"],[1.0,\"#f0f921\"]]}],\"contourcarpet\":[{\"type\":\"contourcarpet\",\"colorbar\":{\"outlinewidth\":0,\"ticks\":\"\"}}],\"contour\":[{\"type\":\"contour\",\"colorbar\":{\"outlinewidth\":0,\"ticks\":\"\"},\"colorscale\":[[0.0,\"#0d0887\"],[0.1111111111111111,\"#46039f\"],[0.2222222222222222,\"#7201a8\"],[0.3333333333333333,\"#9c179e\"],[0.4444444444444444,\"#bd3786\"],[0.5555555555555556,\"#d8576b\"],[0.6666666666666666,\"#ed7953\"],[0.7777777777777778,\"#fb9f3a\"],[0.8888888888888888,\"#fdca26\"],[1.0,\"#f0f921\"]]}],\"surface\":[{\"type\":\"surface\",\"colorbar\":{\"outlinewidth\":0,\"ticks\":\"\"},\"colorscale\":[[0.0,\"#0d0887\"],[0.1111111111111111,\"#46039f\"],[0.2222222222222222,\"#7201a8\"],[0.3333333333333333,\"#9c179e\"],[0.4444444444444444,\"#bd3786\"],[0.5555555555555556,\"#d8576b\"],[0.6666666666666666,\"#ed7953\"],[0.7777777777777778,\"#fb9f3a\"],[0.8888888888888888,\"#fdca26\"],[1.0,\"#f0f921\"]]}],\"mesh3d\":[{\"type\":\"mesh3d\",\"colorbar\":{\"outlinewidth\":0,\"ticks\":\"\"}}],\"scatter\":[{\"fillpattern\":{\"fillmode\":\"overlay\",\"size\":10,\"solidity\":0.2},\"type\":\"scatter\"}],\"parcoords\":[{\"type\":\"parcoords\",\"line\":{\"colorbar\":{\"outlinewidth\":0,\"ticks\":\"\"}}}],\"scatterpolargl\":[{\"type\":\"scatterpolargl\",\"marker\":{\"colorbar\":{\"outlinewidth\":0,\"ticks\":\"\"}}}],\"bar\":[{\"error_x\":{\"color\":\"#2a3f5f\"},\"error_y\":{\"color\":\"#2a3f5f\"},\"marker\":{\"line\":{\"color\":\"#E5ECF6\",\"width\":0.5},\"pattern\":{\"fillmode\":\"overlay\",\"size\":10,\"solidity\":0.2}},\"type\":\"bar\"}],\"scattergeo\":[{\"type\":\"scattergeo\",\"marker\":{\"colorbar\":{\"outlinewidth\":0,\"ticks\":\"\"}}}],\"scatterpolar\":[{\"type\":\"scatterpolar\",\"marker\":{\"colorbar\":{\"outlinewidth\":0,\"ticks\":\"\"}}}],\"histogram\":[{\"marker\":{\"pattern\":{\"fillmode\":\"overlay\",\"size\":10,\"solidity\":0.2}},\"type\":\"histogram\"}],\"scattergl\":[{\"type\":\"scattergl\",\"marker\":{\"colorbar\":{\"outlinewidth\":0,\"ticks\":\"\"}}}],\"scatter3d\":[{\"type\":\"scatter3d\",\"line\":{\"colorbar\":{\"outlinewidth\":0,\"ticks\":\"\"}},\"marker\":{\"colorbar\":{\"outlinewidth\":0,\"ticks\":\"\"}}}],\"scattermapbox\":[{\"type\":\"scattermapbox\",\"marker\":{\"colorbar\":{\"outlinewidth\":0,\"ticks\":\"\"}}}],\"scatterternary\":[{\"type\":\"scatterternary\",\"marker\":{\"colorbar\":{\"outlinewidth\":0,\"ticks\":\"\"}}}],\"scattercarpet\":[{\"type\":\"scattercarpet\",\"marker\":{\"colorbar\":{\"outlinewidth\":0,\"ticks\":\"\"}}}],\"carpet\":[{\"aaxis\":{\"endlinecolor\":\"#2a3f5f\",\"gridcolor\":\"white\",\"linecolor\":\"white\",\"minorgridcolor\":\"white\",\"startlinecolor\":\"#2a3f5f\"},\"baxis\":{\"endlinecolor\":\"#2a3f5f\",\"gridcolor\":\"white\",\"linecolor\":\"white\",\"minorgridcolor\":\"white\",\"startlinecolor\":\"#2a3f5f\"},\"type\":\"carpet\"}],\"table\":[{\"cells\":{\"fill\":{\"color\":\"#EBF0F8\"},\"line\":{\"color\":\"white\"}},\"header\":{\"fill\":{\"color\":\"#C8D4E3\"},\"line\":{\"color\":\"white\"}},\"type\":\"table\"}],\"barpolar\":[{\"marker\":{\"line\":{\"color\":\"#E5ECF6\",\"width\":0.5},\"pattern\":{\"fillmode\":\"overlay\",\"size\":10,\"solidity\":0.2}},\"type\":\"barpolar\"}],\"pie\":[{\"automargin\":true,\"type\":\"pie\"}]},\"layout\":{\"autotypenumbers\":\"strict\",\"colorway\":[\"#636efa\",\"#EF553B\",\"#00cc96\",\"#ab63fa\",\"#FFA15A\",\"#19d3f3\",\"#FF6692\",\"#B6E880\",\"#FF97FF\",\"#FECB52\"],\"font\":{\"color\":\"#2a3f5f\"},\"hovermode\":\"closest\",\"hoverlabel\":{\"align\":\"left\"},\"paper_bgcolor\":\"white\",\"plot_bgcolor\":\"#E5ECF6\",\"polar\":{\"bgcolor\":\"#E5ECF6\",\"angularaxis\":{\"gridcolor\":\"white\",\"linecolor\":\"white\",\"ticks\":\"\"},\"radialaxis\":{\"gridcolor\":\"white\",\"linecolor\":\"white\",\"ticks\":\"\"}},\"ternary\":{\"bgcolor\":\"#E5ECF6\",\"aaxis\":{\"gridcolor\":\"white\",\"linecolor\":\"white\",\"ticks\":\"\"},\"baxis\":{\"gridcolor\":\"white\",\"linecolor\":\"white\",\"ticks\":\"\"},\"caxis\":{\"gridcolor\":\"white\",\"linecolor\":\"white\",\"ticks\":\"\"}},\"coloraxis\":{\"colorbar\":{\"outlinewidth\":0,\"ticks\":\"\"}},\"colorscale\":{\"sequential\":[[0.0,\"#0d0887\"],[0.1111111111111111,\"#46039f\"],[0.2222222222222222,\"#7201a8\"],[0.3333333333333333,\"#9c179e\"],[0.4444444444444444,\"#bd3786\"],[0.5555555555555556,\"#d8576b\"],[0.6666666666666666,\"#ed7953\"],[0.7777777777777778,\"#fb9f3a\"],[0.8888888888888888,\"#fdca26\"],[1.0,\"#f0f921\"]],\"sequentialminus\":[[0.0,\"#0d0887\"],[0.1111111111111111,\"#46039f\"],[0.2222222222222222,\"#7201a8\"],[0.3333333333333333,\"#9c179e\"],[0.4444444444444444,\"#bd3786\"],[0.5555555555555556,\"#d8576b\"],[0.6666666666666666,\"#ed7953\"],[0.7777777777777778,\"#fb9f3a\"],[0.8888888888888888,\"#fdca26\"],[1.0,\"#f0f921\"]],\"diverging\":[[0,\"#8e0152\"],[0.1,\"#c51b7d\"],[0.2,\"#de77ae\"],[0.3,\"#f1b6da\"],[0.4,\"#fde0ef\"],[0.5,\"#f7f7f7\"],[0.6,\"#e6f5d0\"],[0.7,\"#b8e186\"],[0.8,\"#7fbc41\"],[0.9,\"#4d9221\"],[1,\"#276419\"]]},\"xaxis\":{\"gridcolor\":\"white\",\"linecolor\":\"white\",\"ticks\":\"\",\"title\":{\"standoff\":15},\"zerolinecolor\":\"white\",\"automargin\":true,\"zerolinewidth\":2},\"yaxis\":{\"gridcolor\":\"white\",\"linecolor\":\"white\",\"ticks\":\"\",\"title\":{\"standoff\":15},\"zerolinecolor\":\"white\",\"automargin\":true,\"zerolinewidth\":2},\"scene\":{\"xaxis\":{\"backgroundcolor\":\"#E5ECF6\",\"gridcolor\":\"white\",\"linecolor\":\"white\",\"showbackground\":true,\"ticks\":\"\",\"zerolinecolor\":\"white\",\"gridwidth\":2},\"yaxis\":{\"backgroundcolor\":\"#E5ECF6\",\"gridcolor\":\"white\",\"linecolor\":\"white\",\"showbackground\":true,\"ticks\":\"\",\"zerolinecolor\":\"white\",\"gridwidth\":2},\"zaxis\":{\"backgroundcolor\":\"#E5ECF6\",\"gridcolor\":\"white\",\"linecolor\":\"white\",\"showbackground\":true,\"ticks\":\"\",\"zerolinecolor\":\"white\",\"gridwidth\":2}},\"shapedefaults\":{\"line\":{\"color\":\"#2a3f5f\"}},\"annotationdefaults\":{\"arrowcolor\":\"#2a3f5f\",\"arrowhead\":0,\"arrowwidth\":1},\"geo\":{\"bgcolor\":\"white\",\"landcolor\":\"#E5ECF6\",\"subunitcolor\":\"white\",\"showland\":true,\"showlakes\":true,\"lakecolor\":\"white\"},\"title\":{\"x\":0.05},\"mapbox\":{\"style\":\"light\"}}},\"title\":{\"text\":\"1D Anchors Visualization\"},\"xaxis\":{\"title\":{\"text\":\"Signal\"}},\"yaxis\":{\"title\":{\"text\":\"Anchors\"}},\"showlegend\":false,\"height\":10000},                        {\"responsive\": true}                    ).then(function(){\n",
       "                            \n",
       "var gd = document.getElementById('ee75b29c-7373-473d-b86f-f9f6737b8f60');\n",
       "var x = new MutationObserver(function (mutations, observer) {{\n",
       "        var display = window.getComputedStyle(gd).display;\n",
       "        if (!display || display === 'none') {{\n",
       "            console.log([gd, 'removed!']);\n",
       "            Plotly.purge(gd);\n",
       "            observer.disconnect();\n",
       "        }}\n",
       "}});\n",
       "\n",
       "// Listen for the removal of the full notebook cells\n",
       "var notebookContainer = gd.closest('#notebook-container');\n",
       "if (notebookContainer) {{\n",
       "    x.observe(notebookContainer, {childList: true});\n",
       "}}\n",
       "\n",
       "// Listen for the clearing of the current output cell\n",
       "var outputEl = gd.closest('.output');\n",
       "if (outputEl) {{\n",
       "    x.observe(outputEl, {childList: true});\n",
       "}}\n",
       "\n",
       "                        })                };                });            </script>        </div>"
      ]
     },
     "metadata": {},
     "output_type": "display_data"
    }
   ],
   "source": [
    "from plotly import graph_objects as go\n",
    "\n",
    "# Create a Plotly figure\n",
    "fig = go.Figure()\n",
    "\n",
    "# Each anchor is added as a line on the figure\n",
    "for i, (start, end) in enumerate(anchors):\n",
    "    fig.add_trace(go.Scatter(\n",
    "        x=[start, end],\n",
    "        y=[i, i],  # Each anchor is plotted on a separate line on the y-axis for clarity\n",
    "        mode='lines+markers',\n",
    "        name=f'Anchor {i}',\n",
    "        marker=dict(size=10)\n",
    "    ))\n",
    "\n",
    "# Update the layout\n",
    "fig.update_layout(\n",
    "    title='1D Anchors Visualization',\n",
    "    xaxis_title='Signal',\n",
    "    yaxis_title='Anchors',\n",
    "    showlegend=False,\n",
    "    height=10000,\n",
    ")\n",
    "\n",
    "# Show the figure\n",
    "fig.show()"
   ]
  },
  {
   "cell_type": "code",
   "execution_count": 5,
   "metadata": {},
   "outputs": [
    {
     "data": {
      "text/plain": [
       "17280.0"
      ]
     },
     "execution_count": 5,
     "metadata": {},
     "output_type": "execute_result"
    }
   ],
   "source": [
    "day"
   ]
  },
  {
   "cell_type": "code",
   "execution_count": null,
   "metadata": {},
   "outputs": [],
   "source": []
  }
 ],
 "metadata": {
  "kernelspec": {
   "display_name": "detect_sleep_states-bDQuuCad",
   "language": "python",
   "name": "python3"
  },
  "language_info": {
   "codemirror_mode": {
    "name": "ipython",
    "version": 3
   },
   "file_extension": ".py",
   "mimetype": "text/x-python",
   "name": "python",
   "nbconvert_exporter": "python",
   "pygments_lexer": "ipython3",
   "version": "3.8.10"
  }
 },
 "nbformat": 4,
 "nbformat_minor": 2
}
